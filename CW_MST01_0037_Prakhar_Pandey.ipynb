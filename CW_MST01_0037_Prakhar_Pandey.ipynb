{
  "nbformat": 4,
  "nbformat_minor": 0,
  "metadata": {
    "colab": {
      "provenance": [],
      "authorship_tag": "ABX9TyPy4yMJLr0YTyH1Oyn2VWeb",
      "include_colab_link": true
    },
    "kernelspec": {
      "name": "python3",
      "display_name": "Python 3"
    },
    "language_info": {
      "name": "python"
    }
  },
  "cells": [
    {
      "cell_type": "markdown",
      "metadata": {
        "id": "view-in-github",
        "colab_type": "text"
      },
      "source": [
        "<a href=\"https://colab.research.google.com/github/Prakhar-Pandey28/Scifor_Technologies_Python_Developer_Training/blob/main/CW_MST01_0037_Prakhar_Pandey.ipynb\" target=\"_parent\"><img src=\"https://colab.research.google.com/assets/colab-badge.svg\" alt=\"Open In Colab\"/></a>"
      ]
    },
    {
      "cell_type": "markdown",
      "source": [
        "Create a prime number using for loop and also while loop\n",
        "create a range of tables using while loop"
      ],
      "metadata": {
        "id": "tc524PPTLghy"
      }
    },
    {
      "cell_type": "code",
      "source": [
        "number = 2\n",
        "while number <= 100:\n",
        "    is_prime = True\n",
        "    divisor = 2\n",
        "    while divisor < number:\n",
        "        if number % divisor == 0:\n",
        "            is_prime = False\n",
        "            break\n",
        "        divisor += 1\n",
        "    if is_prime:\n",
        "        print(number, end=\" \")\n",
        "    number += 1\n"
      ],
      "metadata": {
        "colab": {
          "base_uri": "https://localhost:8080/"
        },
        "id": "L12Mqx8aNmR6",
        "outputId": "77db54f9-e8df-4d7a-f233-66fa933ca20a"
      },
      "execution_count": null,
      "outputs": [
        {
          "output_type": "stream",
          "name": "stdout",
          "text": [
            "2 3 5 7 11 13 17 19 23 29 31 37 41 43 47 53 59 61 67 71 73 79 83 89 97 "
          ]
        }
      ]
    },
    {
      "cell_type": "code",
      "source": [
        "start = int(input(\"Enter the starting range: \"))\n",
        "end = int(input(\"Enter the ending range: \"))\n",
        "\n",
        "while start <= end:\n",
        "    print(f\"Multiplication table of {start}:\")\n",
        "    multiplier = 1\n",
        "    while multiplier <= 10:\n",
        "        result = start * multiplier\n",
        "        print(f\"{start} * {multiplier} = {result}\")\n",
        "        multiplier += 1\n",
        "    start += 1\n",
        "    print()"
      ],
      "metadata": {
        "colab": {
          "base_uri": "https://localhost:8080/"
        },
        "id": "ZBiNM8aeNsjb",
        "outputId": "60755051-a12c-425c-cf9d-564a9a96ffab"
      },
      "execution_count": null,
      "outputs": [
        {
          "output_type": "stream",
          "name": "stdout",
          "text": [
            "Enter the starting range: 5\n",
            "Enter the ending range: 7\n",
            "Multiplication table of 5:\n",
            "5 * 1 = 5\n",
            "5 * 2 = 10\n",
            "5 * 3 = 15\n",
            "5 * 4 = 20\n",
            "5 * 5 = 25\n",
            "5 * 6 = 30\n",
            "5 * 7 = 35\n",
            "5 * 8 = 40\n",
            "5 * 9 = 45\n",
            "5 * 10 = 50\n",
            "\n",
            "Multiplication table of 6:\n",
            "6 * 1 = 6\n",
            "6 * 2 = 12\n",
            "6 * 3 = 18\n",
            "6 * 4 = 24\n",
            "6 * 5 = 30\n",
            "6 * 6 = 36\n",
            "6 * 7 = 42\n",
            "6 * 8 = 48\n",
            "6 * 9 = 54\n",
            "6 * 10 = 60\n",
            "\n",
            "Multiplication table of 7:\n",
            "7 * 1 = 7\n",
            "7 * 2 = 14\n",
            "7 * 3 = 21\n",
            "7 * 4 = 28\n",
            "7 * 5 = 35\n",
            "7 * 6 = 42\n",
            "7 * 7 = 49\n",
            "7 * 8 = 56\n",
            "7 * 9 = 63\n",
            "7 * 10 = 70\n",
            "\n"
          ]
        }
      ]
    }
  ]
}