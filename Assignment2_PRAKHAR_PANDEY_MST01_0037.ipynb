{
  "nbformat": 4,
  "nbformat_minor": 0,
  "metadata": {
    "colab": {
      "provenance": [],
      "authorship_tag": "ABX9TyNdJd9PAAkXCrtDhwyU0FpK",
      "include_colab_link": true
    },
    "kernelspec": {
      "name": "python3",
      "display_name": "Python 3"
    },
    "language_info": {
      "name": "python"
    }
  },
  "cells": [
    {
      "cell_type": "markdown",
      "metadata": {
        "id": "view-in-github",
        "colab_type": "text"
      },
      "source": [
        "<a href=\"https://colab.research.google.com/github/Prakhar-Pandey28/Scifor_Technologies_Python_Developer_Training/blob/main/Assignment2_PRAKHAR_PANDEY_MST01_0037.ipynb\" target=\"_parent\"><img src=\"https://colab.research.google.com/assets/colab-badge.svg\" alt=\"Open In Colab\"/></a>"
      ]
    },
    {
      "cell_type": "markdown",
      "source": [
        "Its childrens day and the class teacher wanted to share chocolates with the entire class the details are as follows,The number of chocolates with the teacher are = 327 Number of kids in the class are = 78. Write a program to perform modulus division using (%) modulus operator and find out how many chocolates are remaining with the teacher after equally distributing 327 chocolates to 78 students.\n"
      ],
      "metadata": {
        "id": "kfGXwhaNCugQ"
      }
    },
    {
      "cell_type": "code",
      "source": [
        "chocolates = 327;\n",
        "kids = 78;\n",
        "chocolates_left = chocolates % kids;\n",
        "print(chocolates_left)"
      ],
      "metadata": {
        "colab": {
          "base_uri": "https://localhost:8080/"
        },
        "id": "0pYGxF_oCv8b",
        "outputId": "41c54a44-dcd6-4433-9b55-0e1ecc414fa1"
      },
      "execution_count": null,
      "outputs": [
        {
          "output_type": "stream",
          "name": "stdout",
          "text": [
            "15\n"
          ]
        }
      ]
    },
    {
      "cell_type": "markdown",
      "source": [
        "It's Domino's 25th Anniversary and is planning for a big give away and in order to choose the lucky draw winner Domino's first needs to collect all of its customer details. On collecting the customer details Domino's even wants to thank each and every customer for visiting as soon as they entered their details.Write a program to accept customer details like customer name, customer mobile number, customer age, customer email Id.On successfully receiving all the customer information write a print() to thank the customer by using his name for example\"Hi\", customerName,\"!! Thanks for visiting our restaurant and registering for our lucky draw competition on our 25th Anniversary.\"\"Once the lucky draw results are announced you will receive a message on your mobile number :\",customerMobileNumber\"An detailed description of your gift on your email Id :\",customerEmailId\"Thank you for being a valued customer\",customerName,\"!!\"\"Dominos\""
      ],
      "metadata": {
        "id": "HREggGO7DcY7"
      }
    },
    {
      "cell_type": "code",
      "source": [
        "customerName = input(\"Please enter your name: \")\n",
        "age = input(\"Please enter your age: \")\n",
        "M_no = input(\"Please enter your mobile number: \")\n",
        "email = input(\"Please enter your email address: \")\n",
        "print(\"Hi, \" + customerName + \"!! Thanks for visiting our restaurant and registering for our lucky draw competition on our 25th Anniversary. Once the lucky draw results are \\n announced, you will receive a message on your mobile number: \" + M_no + \". A detailed description of your gift will be sent to your email address: \\n \" + email + \". Thank you for being a valued customer, \" + customerName + \"!! - Domino's\")\n"
      ],
      "metadata": {
        "colab": {
          "base_uri": "https://localhost:8080/"
        },
        "id": "RvSPo4mvDy1X",
        "outputId": "31302b6c-3a82-4b7d-c6ba-8c51cc859e5e"
      },
      "execution_count": null,
      "outputs": [
        {
          "output_type": "stream",
          "name": "stdout",
          "text": [
            "Please enter your name: PrakharPandey\n",
            "Please enter your age: 21\n",
            "Please enter your mobile number: 7266045869\n",
            "Please enter your email address: prakharpandey2811@gmail.com\n",
            "Hi, PrakharPandey!! Thanks for visiting our restaurant and registering for our lucky draw competition on our 25th Anniversary. Once the lucky draw results are \n",
            " announced, you will receive a message on your mobile number: 7266045869. A detailed description of your gift will be sent to your email address: \n",
            " prakharpandey2811@gmail.com. Thank you for being a valued customer, PrakharPandey!! - Domino's\n"
          ]
        }
      ]
    },
    {
      "cell_type": "markdown",
      "source": [
        "Teacher wants to conduct a quiz activity in her class. For that she is planning to group 4 students for each team among 60 students. She wants to know how many teams she can create among 60 students.Write a program to find the total number of teams that can be created among students by dividing total number of students to the number of students per team.Total number of student = 60 Number of students per team =4"
      ],
      "metadata": {
        "id": "OWSVv8dPGSMb"
      }
    },
    {
      "cell_type": "code",
      "source": [
        "totalStudents = 60;\n",
        "Students_perTeam = 4;\n",
        "Total_teams = totalStudents / Students_perTeam;\n",
        "print(Total_teams)"
      ],
      "metadata": {
        "colab": {
          "base_uri": "https://localhost:8080/"
        },
        "id": "yMlyhQ5oGbqJ",
        "outputId": "1edf28fa-28a0-493e-a768-63d8b29adbfd"
      },
      "execution_count": null,
      "outputs": [
        {
          "output_type": "stream",
          "name": "stdout",
          "text": [
            "15.0\n"
          ]
        }
      ]
    },
    {
      "cell_type": "markdown",
      "source": [
        "Nidhi loves to travel to different countries. She is now in a country where the temperature is measured in Fahrenheit and she is not able to understand it in a better way. To help her in this situation, write program to convert temperature from Fahrenheit to celsius. ● Hint: (0°C × 9/5) + 32 = 32°F"
      ],
      "metadata": {
        "id": "1kgEy0PsK3g_"
      }
    },
    {
      "cell_type": "code",
      "source": [
        "tempCelcius = float(input())\n",
        "tempFahrenheit = (tempCelcius * 9/5) + 32;\n",
        "print(float(tempFahrenheit))"
      ],
      "metadata": {
        "colab": {
          "base_uri": "https://localhost:8080/"
        },
        "id": "mVAgtuh0K74X",
        "outputId": "9f1a7524-e66c-4967-ae0d-5bf2dd8a5695"
      },
      "execution_count": null,
      "outputs": [
        {
          "output_type": "stream",
          "name": "stdout",
          "text": [
            "28\n",
            "82.4\n"
          ]
        }
      ]
    }
  ]
}