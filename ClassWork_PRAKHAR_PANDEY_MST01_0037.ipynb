{
  "nbformat": 4,
  "nbformat_minor": 0,
  "metadata": {
    "colab": {
      "provenance": [],
      "authorship_tag": "ABX9TyN1UVc0+pfiz2KfeChY2o/1",
      "include_colab_link": true
    },
    "kernelspec": {
      "name": "python3",
      "display_name": "Python 3"
    },
    "language_info": {
      "name": "python"
    }
  },
  "cells": [
    {
      "cell_type": "markdown",
      "metadata": {
        "id": "view-in-github",
        "colab_type": "text"
      },
      "source": [
        "<a href=\"https://colab.research.google.com/github/Prakhar-Pandey28/Scifor_Technologies_Python_Developer_Training/blob/main/ClassWork_PRAKHAR_PANDEY_MST01_0037.ipynb\" target=\"_parent\"><img src=\"https://colab.research.google.com/assets/colab-badge.svg\" alt=\"Open In Colab\"/></a>"
      ]
    },
    {
      "cell_type": "markdown",
      "source": [
        "Jack has been experimenting a lot with mirrors in his Physics class. He was very distracted throughout his entire school day as he spent all day thinking about mirrors and mirror images. When Jack went to his computer class, he finally found a solution, he wanted to create a computer program that can take a three letter string input from the user and display the mirror image of it. Write a program for the same.\n",
        "Jacob recently learnt about Strings and concatenation in his computer class at his school. Jacob was truly fascinated by the working of strings and its various functions. Jacob was tasked with creating a program that can join two strings “Computer” and “Programming”. Write a program to help Jacob."
      ],
      "metadata": {
        "id": "wtXXXb_JR5mq"
      }
    },
    {
      "cell_type": "code",
      "source": [
        "input_string = input(\"Enter a three-letter string: \")\n",
        "\n",
        "if len(input_string) != 3:\n",
        "    print(\"Error: Please enter a three-letter string.\")\n",
        "else:\n",
        "    mirror_image = input_string[::-1]\n",
        "    print(\"Mirror image:\", mirror_image)\n"
      ],
      "metadata": {
        "colab": {
          "base_uri": "https://localhost:8080/"
        },
        "id": "4vvyvFMeR8FK",
        "outputId": "6988879f-8254-45bb-c268-6e4a3791ef5e"
      },
      "execution_count": null,
      "outputs": [
        {
          "output_type": "stream",
          "name": "stdout",
          "text": [
            "Enter a three-letter string: pra\n",
            "Mirror image: arp\n"
          ]
        }
      ]
    },
    {
      "cell_type": "code",
      "source": [
        "string1 = \"Computer\"\n",
        "string2 = \"Programming\"\n",
        "\n",
        "joined_string = string1 + string2\n",
        "\n",
        "print(\"Joined String:\", joined_string)\n"
      ],
      "metadata": {
        "colab": {
          "base_uri": "https://localhost:8080/"
        },
        "id": "PpeD97m1S24z",
        "outputId": "5bdeee79-bff1-4b56-fd11-122e48fbfd89"
      },
      "execution_count": null,
      "outputs": [
        {
          "output_type": "stream",
          "name": "stdout",
          "text": [
            "Joined String: ComputerProgramming\n"
          ]
        }
      ]
    },
    {
      "cell_type": "markdown",
      "source": [
        "Bonnie visited the amusement park with her father. She enjoyed all the rides very much but one in particular caught her eye. The one and only rollercoaster!\n",
        "\n",
        "BUT!\n",
        "\n",
        "3:There is a age requirement for riding that coaster. The minimum age required is 10. If Bonnie is 15 years old, can we check if she can ride the rollercoaster?"
      ],
      "metadata": {
        "id": "H6bMp3kNTDEI"
      }
    },
    {
      "cell_type": "code",
      "source": [
        "minimum_age = 10\n",
        "bonnie_age = 15\n",
        "\n",
        "if bonnie_age>=minimum_age:\n",
        "  print(\"congratulations you can ride the rollercoaster!\")\n",
        "\n",
        "else:\n",
        "  print(\"sorry, you cannot ride the rollercoaster \")"
      ],
      "metadata": {
        "colab": {
          "base_uri": "https://localhost:8080/"
        },
        "id": "AjRfJes2UXFG",
        "outputId": "123e2bf2-1c24-42e4-bfff-57f422a8ab5b"
      },
      "execution_count": null,
      "outputs": [
        {
          "output_type": "stream",
          "name": "stdout",
          "text": [
            "congratulations you can ride the rollercoaster!\n"
          ]
        }
      ]
    }
  ]
}