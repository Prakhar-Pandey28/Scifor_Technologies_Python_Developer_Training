{
  "nbformat": 4,
  "nbformat_minor": 0,
  "metadata": {
    "colab": {
      "provenance": [],
      "authorship_tag": "ABX9TyPzJcdVTybmRuC+Vn1WqTPF",
      "include_colab_link": true
    },
    "kernelspec": {
      "name": "python3",
      "display_name": "Python 3"
    },
    "language_info": {
      "name": "python"
    }
  },
  "cells": [
    {
      "cell_type": "markdown",
      "metadata": {
        "id": "view-in-github",
        "colab_type": "text"
      },
      "source": [
        "<a href=\"https://colab.research.google.com/github/Prakhar-Pandey28/Scifor_Technologies_Python_Developer_Training/blob/main/MST01_0037_PRAKHAR_PANDEY_Assesment_15_March_2024.ipynb\" target=\"_parent\"><img src=\"https://colab.research.google.com/assets/colab-badge.svg\" alt=\"Open In Colab\"/></a>"
      ]
    },
    {
      "cell_type": "markdown",
      "source": [
        "create a prime and a composite program using loop"
      ],
      "metadata": {
        "id": "-OaxYEd6WDFO"
      }
    },
    {
      "cell_type": "code",
      "source": [
        "number = int(input(\"Enter Number:\"))\n",
        "\n",
        "if number>1:\n",
        "  for i in range (2, int(number**0.5) +1):\n",
        "    if(number % i == 0):\n",
        "      print(number, \"is a composite number\")\n",
        "      break\n",
        "\n",
        "  else:\n",
        "    print(number, \"is a prime Number\")\n",
        "\n",
        "else:\n",
        "  print(number, \"is not a prime number\")\n"
      ],
      "metadata": {
        "colab": {
          "base_uri": "https://localhost:8080/"
        },
        "id": "aYmgwpp2WGXy",
        "outputId": "f8224d8b-849b-4191-ab27-98030de4cb18"
      },
      "execution_count": 2,
      "outputs": [
        {
          "output_type": "stream",
          "name": "stdout",
          "text": [
            "Enter Number:5\n",
            "5 is a prime Number\n"
          ]
        }
      ]
    },
    {
      "cell_type": "markdown",
      "source": [
        "Sarah is designing a window frame for a picture she painted. She wants the frame to have a hollow square pattern of stars around the picture. Can you help Sarah write a Python program to create this hollow square pattern with a user-defined size? Write a Python program to print a hollow square pattern of stars for Sarah's picture frame. The size of the square should be determined by the user."
      ],
      "metadata": {
        "id": "F7JX12d4X7uh"
      }
    },
    {
      "cell_type": "code",
      "source": [
        "rows = int(input())\n",
        "print(\"Enter the number of rows\", rows)\n",
        "for i in range(rows):\n",
        "    for j in range(rows):\n",
        "        if i == 0 or i == rows - 1 or j == 0 or j == rows - 1:\n",
        "            print(\"*\", end=\"\")\n",
        "        else:\n",
        "            print(\" \", end=\"\")\n",
        "    print()\n"
      ],
      "metadata": {
        "colab": {
          "base_uri": "https://localhost:8080/"
        },
        "id": "43S-o96uYDWh",
        "outputId": "f29fe665-7218-4e40-c3e2-d4432a5e0b5b"
      },
      "execution_count": 7,
      "outputs": [
        {
          "output_type": "stream",
          "name": "stdout",
          "text": [
            "5\n",
            "Enter the number of rows 5\n",
            "*****\n",
            "*   *\n",
            "*   *\n",
            "*   *\n",
            "*****\n"
          ]
        }
      ]
    },
    {
      "cell_type": "markdown",
      "source": [
        "Q3)"
      ],
      "metadata": {
        "id": "Ob8pLmKxcTe3"
      }
    },
    {
      "cell_type": "code",
      "source": [
        "alphabet1 = input(\"Enter alphabet 1: \")\n",
        "alphabet2 = input(\"Enter alphabet 2: \")\n",
        "alphabet3 = input(\"Enter alphabet 3: \")\n",
        "alphabet4 = input(\"Enter alphabet 4: \")\n",
        "alphabet5 = input(\"Enter alphabet 5: \")\n",
        "\n",
        "for i in range(5):\n",
        "    for j in range(i + 1):\n",
        "        if j == 0:\n",
        "            print(alphabet1, end=\"\")\n",
        "        elif j == 1:\n",
        "            print(alphabet2, end=\"\")\n",
        "        elif j == 2:\n",
        "            print(alphabet3, end=\"\")\n",
        "        elif j == 3:\n",
        "            print(alphabet4, end=\"\")\n",
        "        else:\n",
        "            print(alphabet5, end=\"\")\n",
        "    print()\n"
      ],
      "metadata": {
        "colab": {
          "base_uri": "https://localhost:8080/"
        },
        "id": "lbjBOfl6clt3",
        "outputId": "d95259d5-19ba-405c-c436-5c4d6820e2c4"
      },
      "execution_count": 8,
      "outputs": [
        {
          "output_type": "stream",
          "name": "stdout",
          "text": [
            "Enter alphabet 1: a\n",
            "Enter alphabet 2: a\n",
            "Enter alphabet 3: p\n",
            "Enter alphabet 4: p\n",
            "Enter alphabet 5: l\n",
            "a\n",
            "aa\n",
            "aap\n",
            "aapp\n",
            "aappl\n"
          ]
        }
      ]
    },
    {
      "cell_type": "markdown",
      "source": [
        "Q4"
      ],
      "metadata": {
        "id": "43hH2Fgwea7I"
      }
    },
    {
      "cell_type": "code",
      "source": [
        "for num in range(1, 101):\n",
        "    if num % 3 == 0 and num % 5 == 0:\n",
        "        print(\"FizzBuzz!\")\n",
        "    elif num % 3 == 0:\n",
        "        print(\"Fizz!\")\n",
        "    elif num % 5 == 0:\n",
        "        print(\"Buzz!\")\n",
        "    else:\n",
        "        print(num)\n"
      ],
      "metadata": {
        "colab": {
          "base_uri": "https://localhost:8080/"
        },
        "id": "PxQY_25deb87",
        "outputId": "054a14e9-c4aa-4678-ba26-49a9af1969fc"
      },
      "execution_count": 9,
      "outputs": [
        {
          "output_type": "stream",
          "name": "stdout",
          "text": [
            "1\n",
            "2\n",
            "Fizz!\n",
            "4\n",
            "Buzz!\n",
            "Fizz!\n",
            "7\n",
            "8\n",
            "Fizz!\n",
            "Buzz!\n",
            "11\n",
            "Fizz!\n",
            "13\n",
            "14\n",
            "FizzBuzz!\n",
            "16\n",
            "17\n",
            "Fizz!\n",
            "19\n",
            "Buzz!\n",
            "Fizz!\n",
            "22\n",
            "23\n",
            "Fizz!\n",
            "Buzz!\n",
            "26\n",
            "Fizz!\n",
            "28\n",
            "29\n",
            "FizzBuzz!\n",
            "31\n",
            "32\n",
            "Fizz!\n",
            "34\n",
            "Buzz!\n",
            "Fizz!\n",
            "37\n",
            "38\n",
            "Fizz!\n",
            "Buzz!\n",
            "41\n",
            "Fizz!\n",
            "43\n",
            "44\n",
            "FizzBuzz!\n",
            "46\n",
            "47\n",
            "Fizz!\n",
            "49\n",
            "Buzz!\n",
            "Fizz!\n",
            "52\n",
            "53\n",
            "Fizz!\n",
            "Buzz!\n",
            "56\n",
            "Fizz!\n",
            "58\n",
            "59\n",
            "FizzBuzz!\n",
            "61\n",
            "62\n",
            "Fizz!\n",
            "64\n",
            "Buzz!\n",
            "Fizz!\n",
            "67\n",
            "68\n",
            "Fizz!\n",
            "Buzz!\n",
            "71\n",
            "Fizz!\n",
            "73\n",
            "74\n",
            "FizzBuzz!\n",
            "76\n",
            "77\n",
            "Fizz!\n",
            "79\n",
            "Buzz!\n",
            "Fizz!\n",
            "82\n",
            "83\n",
            "Fizz!\n",
            "Buzz!\n",
            "86\n",
            "Fizz!\n",
            "88\n",
            "89\n",
            "FizzBuzz!\n",
            "91\n",
            "92\n",
            "Fizz!\n",
            "94\n",
            "Buzz!\n",
            "Fizz!\n",
            "97\n",
            "98\n",
            "Fizz!\n",
            "Buzz!\n"
          ]
        }
      ]
    }
  ]
}