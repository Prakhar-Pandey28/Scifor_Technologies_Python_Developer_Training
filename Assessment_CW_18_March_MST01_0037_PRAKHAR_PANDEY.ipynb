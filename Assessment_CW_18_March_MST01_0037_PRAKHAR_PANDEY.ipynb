{
  "nbformat": 4,
  "nbformat_minor": 0,
  "metadata": {
    "colab": {
      "provenance": [],
      "authorship_tag": "ABX9TyMoxVLsqDXLk/W0ih2KqnsD",
      "include_colab_link": true
    },
    "kernelspec": {
      "name": "python3",
      "display_name": "Python 3"
    },
    "language_info": {
      "name": "python"
    }
  },
  "cells": [
    {
      "cell_type": "markdown",
      "metadata": {
        "id": "view-in-github",
        "colab_type": "text"
      },
      "source": [
        "<a href=\"https://colab.research.google.com/github/Prakhar-Pandey28/Scifor_Technologies_Python_Developer_Training/blob/main/Assessment_CW_18_March_MST01_0037_PRAKHAR_PANDEY.ipynb\" target=\"_parent\"><img src=\"https://colab.research.google.com/assets/colab-badge.svg\" alt=\"Open In Colab\"/></a>"
      ]
    },
    {
      "cell_type": "markdown",
      "source": [
        "Nidhi is trying to solve a few questions in mathematics. She is actually finding out the central tendency(\n",
        "mean, median, and mode ) of some numbers. It is taking a lot of time for her to complete the\n",
        "questions. Help Nidhi in solving the following questions. Write the program for each of them.\n",
        "● .\n",
        "● She wants to find the mean of numbers. Write a program to find the mean of numbers.\n",
        "● Hint: find the sum of all the numbers in the list then divide it with the number of elements present in the\n",
        "list."
      ],
      "metadata": {
        "id": "BSlnvhdWxApP"
      }
    },
    {
      "cell_type": "code",
      "source": [
        "numbers = list(map(int, input(\"Enter numbers separated by commas: \").split(',')))\n",
        "\n",
        "total = sum(numbers)\n",
        "mean = total / len(numbers)\n",
        "\n",
        "sorted_numbers = sorted(numbers)\n",
        "\n",
        "mid = len(sorted_numbers) // 2\n",
        "if len(sorted_numbers) % 2 == 0:\n",
        "    median = (sorted_numbers[mid - 1] + sorted_numbers[mid]) / 2\n",
        "else:\n",
        "    median = sorted_numbers[mid]\n",
        "\n",
        "number_of_occurrences = {}\n",
        "for num in numbers:\n",
        "    if num in number_of_occurrences:\n",
        "        number_of_occurrences[num] += 1\n",
        "    else:\n",
        "        number_of_occurrences[num] = 1\n",
        "\n",
        "mode = max(number_of_occurrences, key=number_of_occurrences.get)\n",
        "\n",
        "print(\"Mean:\", mean)\n",
        "print(\"Median:\", median)\n",
        "print(\"Mode:\", mode)\n"
      ],
      "metadata": {
        "colab": {
          "base_uri": "https://localhost:8080/"
        },
        "id": "Bi_41wAlxBk3",
        "outputId": "5c2bc298-0721-4115-b504-351881b2ab16"
      },
      "execution_count": null,
      "outputs": [
        {
          "output_type": "stream",
          "name": "stdout",
          "text": [
            "Enter numbers separated by commas: 5,100,1000,10,10,10,10,5,5,2,69\n",
            "Mean: 111.45454545454545\n",
            "Median: 10\n",
            "Mode: 10\n"
          ]
        }
      ]
    },
    {
      "cell_type": "markdown",
      "source": [
        "A teacher created a list of names of the students. Now teachers want to get the name of all those\n",
        "students whose name starts with the letter “A”. To help the teacher write a python program and create\n",
        "a list of names of students. Then print the names which start with the letter “A”. (Hint: Use for loop and\n",
        "give condition I [0] == “A”)"
      ],
      "metadata": {
        "id": "KEbGeGV838xf"
      }
    },
    {
      "cell_type": "code",
      "source": [
        "students = input(\"Enter names of students, separated by comma: \")\n",
        "student_names = students.split()\n",
        "\n",
        "names_with_A = []\n",
        "\n",
        "for name in student_names:\n",
        "  if name[0].upper() == 'A':\n",
        "    names_with_A.append(name)\n",
        "\n",
        "\n",
        "print(\"Names with A:\")\n",
        "for name in names_with_A:\n",
        "  print(name)\n",
        "\n"
      ],
      "metadata": {
        "colab": {
          "base_uri": "https://localhost:8080/"
        },
        "id": "vi6Jnxzw4FON",
        "outputId": "9c3805b1-1407-4660-8860-7aec991456cc"
      },
      "execution_count": null,
      "outputs": [
        {
          "output_type": "stream",
          "name": "stdout",
          "text": [
            "Enter names of students, separated by comma: Ayush, Kanhesh, Vishesh, Abir, Bhuvnesh, Anubhav\n",
            "Names with A:\n",
            "Ayush,\n",
            "Abir,\n",
            "Anubhav\n"
          ]
        }
      ]
    }
  ]
}