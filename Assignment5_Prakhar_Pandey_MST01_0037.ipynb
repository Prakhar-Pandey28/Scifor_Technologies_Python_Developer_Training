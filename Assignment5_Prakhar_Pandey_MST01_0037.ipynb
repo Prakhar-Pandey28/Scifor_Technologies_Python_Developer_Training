{
  "nbformat": 4,
  "nbformat_minor": 0,
  "metadata": {
    "colab": {
      "provenance": [],
      "authorship_tag": "ABX9TyOOFTu879BNhcrgONO4PVd0",
      "include_colab_link": true
    },
    "kernelspec": {
      "name": "python3",
      "display_name": "Python 3"
    },
    "language_info": {
      "name": "python"
    }
  },
  "cells": [
    {
      "cell_type": "markdown",
      "metadata": {
        "id": "view-in-github",
        "colab_type": "text"
      },
      "source": [
        "<a href=\"https://colab.research.google.com/github/Prakhar-Pandey28/Scifor_Technologies_Python_Developer_Training/blob/main/Assignment5_Prakhar_Pandey_MST01_0037.ipynb\" target=\"_parent\"><img src=\"https://colab.research.google.com/assets/colab-badge.svg\" alt=\"Open In Colab\"/></a>"
      ]
    },
    {
      "cell_type": "markdown",
      "source": [
        "A Candy Vending Machine is topped up and is supposed to deliver the number of candies entered by the user but before delivering the candies the vending machine is supposed to ask the user to enter the amount for the candies where each candy is worth 1 dollar. So write a python program that can be loaded into the vending machine so that the vending machine can act accordingly. HINT:\n",
        "\n",
        "create a variable named total_candies_to_load and take the input from the user on how many candies to be loaded on to the vending machine\n",
        "\n",
        "print the vending machine title as \"🍬🍬Candy Vending Machine🍬🍬\" and print total number of candies loaded into the vending machine along with it.\n",
        "\n",
        "create a variable named numberOfCandiesUserWants to store the number of candies required by the user\n",
        "\n",
        "accept the number of candies the customer wants as an input into the variable numberOfCandiesUserWants that we created in the previous step and if the number of candies required by the customer is less than zero or greater than total number of candies in the machine, print “You have entered number of candies which is either zero or less than zero and is not possible to disperse please try again or visit once again Thanks for shopping with us!!! we will be happy to serve you once again”\n",
        "\n",
        "Using the concept of nested loops, print the amount the customer has to pay given cost of 1 candy = 1$.\n",
        "Confirm the money paid by the customer as input to UserMoney variable.\n",
        "If the UserMoney is equal to cost of candies, print delivering as many times as the number of candies ordered by the customer otherwise print “Enter wrong amount. Try again !”\n",
        "\n",
        "print the number of candies left in the vending machine and a thank you message."
      ],
      "metadata": {
        "id": "PUoQYwJGbSm4"
      }
    },
    {
      "cell_type": "code",
      "source": [
        "# Get the number of candies to load\n",
        "total_candies_to_load = int(input(\"Number of candies to load: \"))\n",
        "print(\"🍬🍬 Candy Vending Machine 🍬🍬\", total_candies_to_load)\n",
        "\n",
        "# Get the number of candies the user wants\n",
        "numberOfCandiesUserWants = int(input(\"Enter the number of candies user wants: \"))\n",
        "\n",
        "# Check if the entered number of candies is valid\n",
        "if numberOfCandiesUserWants <= 0 or numberOfCandiesUserWants > total_candies_to_load:\n",
        "    print(\"Invalid input. Please enter a valid number of candies.\")\n",
        "else:\n",
        "    # Assume each candy costs $1\n",
        "    cost_of_candies = numberOfCandiesUserWants\n",
        "\n",
        "    # Print the total cost of candies\n",
        "    print(\"Total cost of candies: ${}\".format(cost_of_candies))\n",
        "\n",
        "    # Get the amount of money the user is paying\n",
        "    UserMoney = int(input(\"Please Enter the amount you are paying: $\"))\n",
        "\n",
        "    # Check if the user has paid the correct amount\n",
        "    if UserMoney == cost_of_candies:\n",
        "        print(\"Delivering {} candies ordered by the customer\".format(numberOfCandiesUserWants))\n",
        "        total_candies_to_load -= numberOfCandiesUserWants\n",
        "        print(\"Number of candies left in the vending machine: {}. Thank you!!\".format(total_candies_to_load))\n",
        "    else:\n",
        "        print(\"Entered wrong amount. Please try again!\")\n",
        "        print(\"Number of candies left in the vending machine: {}. Thank you!!\".format(total_candies_to_load))\n"
      ],
      "metadata": {
        "colab": {
          "base_uri": "https://localhost:8080/"
        },
        "id": "7-MxZcJibWoJ",
        "outputId": "e5bc0bd6-66ec-4658-801a-dbf8c09f6188"
      },
      "execution_count": null,
      "outputs": [
        {
          "output_type": "stream",
          "name": "stdout",
          "text": [
            "Number of candies to load: 5\n",
            "🍬🍬 Candy Vending Machine 🍬🍬 5\n",
            "Enter the number of candies user wants: 1\n",
            "Total cost of candies: $1\n",
            "Please Enter the amount you are paying: $1\n",
            "Delivering 1 candies ordered by the customer\n",
            "Number of candies left in the vending machine: 4. Thank you!!\n"
          ]
        }
      ]
    },
    {
      "cell_type": "markdown",
      "source": [
        "Mathew, a 13 year old kid, is good at math but whenever it comes to the even and odd numbers he always faces difficulty to find the even or odd number greater than 10. So write a python program to help Mathew to print odd and even numbers in a certain range using a for loop."
      ],
      "metadata": {
        "id": "g3vrmjthxTEF"
      }
    },
    {
      "cell_type": "code",
      "source": [
        "min_range = int(input(\"Enter the number from where you want to find the Odd/Even numbers\"))\n",
        "max_range = int(input(\"Enter the number from until you want to find the Odd/Even numbers\"))\n",
        "\n",
        "print(\"Even Numbers between {} and {}\".format(min_range,max_range))\n",
        "for i in range(min_range,max_range + 1):\n",
        "  if i % 2 == 0:\n",
        "    print(i)\n",
        "\n",
        "print(\"Odd Numbers between {} and {}\".format(min_range,max_range))\n",
        "for i in range(min_range,max_range+1):\n",
        "  if i%2 != 0:\n",
        "    print(i)"
      ],
      "metadata": {
        "colab": {
          "base_uri": "https://localhost:8080/"
        },
        "id": "3z5whPfhxoOM",
        "outputId": "4f37ce88-0d82-4089-8c1e-25c79ee5e08c"
      },
      "execution_count": null,
      "outputs": [
        {
          "output_type": "stream",
          "name": "stdout",
          "text": [
            "Enter the number from where you want to find the Odd/Even numbers0\n",
            "Enter the number from until you want to find the Odd/Even numbers20\n",
            "Even Numbers between 0 and 20\n",
            "0\n",
            "2\n",
            "4\n",
            "6\n",
            "8\n",
            "10\n",
            "12\n",
            "14\n",
            "16\n",
            "18\n",
            "20\n",
            "Odd Numbers between 0 and 20\n",
            "1\n",
            "3\n",
            "5\n",
            "7\n",
            "9\n",
            "11\n",
            "13\n",
            "15\n",
            "17\n",
            "19\n"
          ]
        }
      ]
    },
    {
      "cell_type": "markdown",
      "source": [
        "Create a program to the find total number of upper letters,lower letters,digits and the symbols using if elif else, for loop and string operations"
      ],
      "metadata": {
        "id": "oVxiWQ1R1NMn"
      }
    },
    {
      "cell_type": "code",
      "source": [
        "string_input = input(\"Enter the string:\")\n",
        "upper_count = 0\n",
        "lower_count = 0\n",
        "digits_count = 0\n",
        "symbols_count = 0\n",
        "for i in string_input:\n",
        "  if i.isupper():\n",
        "    upper_count += 1\n",
        "  elif i.islower():\n",
        "    lower_count += 1\n",
        "  elif i.isdigit():\n",
        "    digits_count += 1\n",
        "  else:\n",
        "    symbols_count += 1\n",
        "print(\"Number of Uppercase Letters: {}\\nNumber of Lowercase Letters: {}\\nNumber of Digits: {}\\nNumber of Symbols: {}\".format(upper_count,lower_count,digits_count,symbols_count))\n",
        "\n"
      ],
      "metadata": {
        "colab": {
          "base_uri": "https://localhost:8080/"
        },
        "id": "18Hm2zco1ODh",
        "outputId": "e9b3f533-dd75-4723-b458-166a29adbdd5"
      },
      "execution_count": null,
      "outputs": [
        {
          "output_type": "stream",
          "name": "stdout",
          "text": [
            "Enter the string:PraKhaR@2811\n",
            "Number of Uppercase Letters: 3\n",
            "Number of Lowercase Letters: 4\n",
            "Number of Digits: 4\n",
            "Number of Symbols: 1\n"
          ]
        }
      ]
    },
    {
      "cell_type": "markdown",
      "source": [
        "Mrs. Olivia, a entrepreneur, is running a mini business and wanted to create a very simple form which takes only the user's name and the user's password so that all her customers can have access to her business dashboard. Mrs. Olivia wants her customers to just enter the password with only alphabets and no numbers allowed for some reason.Mrs. Olivia just knows how to create a form but she doesn't know how to give the validation. So to help Mrs. Olivia, write a python program to validate Mrs.Olivia's form where password should only consist of alphabets. Hint:Use isalpha() function."
      ],
      "metadata": {
        "id": "6ELV9nsw2cE-"
      }
    },
    {
      "cell_type": "code",
      "source": [
        "user_name = input(\"Enter the Username:\")\n",
        "password = input(\"Enter the Password:\")\n",
        "if password.isalpha():\n",
        "  print(\"User Entered a Valid Password\")\n",
        "else:\n",
        "  print(\"Invalid Password.Please Enter a Password Only With Alphabets\")"
      ],
      "metadata": {
        "colab": {
          "base_uri": "https://localhost:8080/"
        },
        "id": "i62dLMt32ha6",
        "outputId": "890411d0-af24-4604-d7b6-a0b63f48aa59"
      },
      "execution_count": null,
      "outputs": [
        {
          "output_type": "stream",
          "name": "stdout",
          "text": [
            "Enter the Username:scifor\n",
            "Enter the Password:Techologies\n",
            "User Entered a Valid Password\n"
          ]
        }
      ]
    },
    {
      "cell_type": "markdown",
      "source": [
        "Christiana is a kid who is born on leap year, but she doesn't know which year would be a leap year for her so that she can celebrate her birthday hence write a python program to help Chirstiana in finding out if the given year is a leap year or not"
      ],
      "metadata": {
        "id": "EUhfhr4Z2-1I"
      }
    },
    {
      "cell_type": "code",
      "source": [
        "start = int(input(\"Enter the Starting Year:\"))\n",
        "end = int(input(\"Enter the Ending Year:\"))\n",
        "for year in range(start,end+1):\n",
        "  if (year % 4 == 0 and year % 100 != 0) or (year % 400 == 0):\n",
        "    print(\"{} is Leap Year\".format(year))\n",
        "  else:\n",
        "    print(\"{} is not a Leap Year\".format(year))"
      ],
      "metadata": {
        "colab": {
          "base_uri": "https://localhost:8080/"
        },
        "id": "r1MAXyvV3B9Z",
        "outputId": "22e0f9d2-72aa-4a8f-a862-5c1aa5f15542"
      },
      "execution_count": null,
      "outputs": [
        {
          "output_type": "stream",
          "name": "stdout",
          "text": [
            "Enter the Starting Year:2000\n",
            "Enter the Ending Year:2024\n",
            "2000 is Leap Year\n",
            "2001 is not a Leap Year\n",
            "2002 is not a Leap Year\n",
            "2003 is not a Leap Year\n",
            "2004 is Leap Year\n",
            "2005 is not a Leap Year\n",
            "2006 is not a Leap Year\n",
            "2007 is not a Leap Year\n",
            "2008 is Leap Year\n",
            "2009 is not a Leap Year\n",
            "2010 is not a Leap Year\n",
            "2011 is not a Leap Year\n",
            "2012 is Leap Year\n",
            "2013 is not a Leap Year\n",
            "2014 is not a Leap Year\n",
            "2015 is not a Leap Year\n",
            "2016 is Leap Year\n",
            "2017 is not a Leap Year\n",
            "2018 is not a Leap Year\n",
            "2019 is not a Leap Year\n",
            "2020 is Leap Year\n",
            "2021 is not a Leap Year\n",
            "2022 is not a Leap Year\n",
            "2023 is not a Leap Year\n",
            "2024 is Leap Year\n"
          ]
        }
      ]
    },
    {
      "cell_type": "markdown",
      "source": [
        "In a classroom, there are desks arranged in a row and column fashion. The math teacher, Mr. James, asked one of the kid whose name was Robert to count the total number of desks present in the class. Robert was just wondering if there is software that could take the number of rows and number of columns and show how many desks there are that would make his job easier. So write a python program to help Robert to count the number of desks present in the class"
      ],
      "metadata": {
        "id": "I_U-r4wC8D-W"
      }
    },
    {
      "cell_type": "code",
      "source": [
        "row = int(input(\"Enter the Number of Rows:\"))\n",
        "col = int(input(\"Enter the Number of Columns:\"))\n",
        "count = 0\n",
        "for i in range(row):\n",
        "  for j in range(col):\n",
        "    count += 1\n",
        "print(\"Total No. of desks in classroom: \",count)"
      ],
      "metadata": {
        "colab": {
          "base_uri": "https://localhost:8080/"
        },
        "id": "F8CErwh88Eu0",
        "outputId": "c058199b-8b31-4326-cf15-04f999930181"
      },
      "execution_count": null,
      "outputs": [
        {
          "output_type": "stream",
          "name": "stdout",
          "text": [
            "Enter the Number of Rows:5\n",
            "Enter the Number of Columns:5\n",
            "Total No. of desks in classroom:  25\n"
          ]
        }
      ]
    },
    {
      "cell_type": "markdown",
      "source": [
        "Mr James, A businessman in canada was throwing a small party in a banquet hall and wanted to track the number of people attended the party so he kept a people tracker device in the entrance where every person enters is supposed to enter his or her authorization code to enter the hall, certain codes were assigned they are as follows : If Banquet Hall Team Members like Manager, waiter, and Mr. James himself then their authorization code will be : 0 If Guests Their Authorization Code Will be : 1 If the Authorization Code Entered is 1 then increment the number_of_guests Variable by 1, Wish the Guest like \"Door Opened\" \"Welcome to the Party, We Hope you have fun.\" else If the Authorization Code Entered is 0 then print as follows \"Access Granted\" \"Door Opened\" else tell the person that his entered number is invalid"
      ],
      "metadata": {
        "id": "Ug6DergT_U1I"
      }
    },
    {
      "cell_type": "code",
      "source": [
        "number_of_guests = 0\n",
        "\n",
        "BANQUET_HALL_TEAM_MEMBER_CODE = 0\n",
        "GUEST_CODE = 1\n",
        "\n",
        "authorization_code = int(input(\"Enter your authorization code (0 for team members, 1 for guests): \"))\n",
        "\n",
        "# Process authorization code\n",
        "if authorization_code == GUEST_CODE:\n",
        "    number_of_guests += 1\n",
        "    print(\"Door Opened\")\n",
        "    print(\"Welcome to the Party! We hope you have fun.\")\n",
        "elif authorization_code == BANQUET_HALL_TEAM_MEMBER_CODE:\n",
        "    print(\"Access Granted\")\n",
        "    print(\"Door Opened\")\n",
        "else:\n",
        "    print(\"Invalid authorization code.\")\n"
      ],
      "metadata": {
        "colab": {
          "base_uri": "https://localhost:8080/"
        },
        "id": "FEZEDJpF_jld",
        "outputId": "60071b9d-5298-4a2e-9687-81a59a878c55"
      },
      "execution_count": null,
      "outputs": [
        {
          "output_type": "stream",
          "name": "stdout",
          "text": [
            "Enter your authorization code (0 for team members, 1 for guests): 1\n",
            "Door Opened\n",
            "Welcome to the Party! We hope you have fun.\n"
          ]
        }
      ]
    },
    {
      "cell_type": "markdown",
      "source": [
        "Mathew, a 13 year old kid, is good at math but whenever it comes to the even and odd numbers he always faces difficulty to find the even or odd number greater than 10. So write a python program to help Mathew to print odd and even numbers in a certain range using a for loop."
      ],
      "metadata": {
        "id": "jBHuY6BCA1kg"
      }
    },
    {
      "cell_type": "markdown",
      "source": [
        "An online essay writing competition was held in a school. The students were required to write at least 250 words. According to the rule, only that essay should be checked which contains at least 250 words. Teachers were just guessing the number of words in the essay but that was not an accurate way to count the number of words. So write a program that can count the number of words in an essay ( Hint: Take input and count the number of words using for loop | Note: to count the number of words you can just count the number of blank spaces given in the input. )"
      ],
      "metadata": {
        "id": "qnYSbmGKBGpM"
      }
    },
    {
      "cell_type": "code",
      "source": [
        "essay = input(\"Enter your essay: \")\n",
        "\n",
        "word_count = 1\n",
        "\n",
        "for char in essay:\n",
        "    if char == ' ':\n",
        "        word_count += 1\n",
        "\n",
        "print(\"Number of words in the essay:\", word_count)\n"
      ],
      "metadata": {
        "colab": {
          "base_uri": "https://localhost:8080/"
        },
        "id": "Pda2jl8iBHjz",
        "outputId": "e46e60a4-546b-4e04-92ba-a19e5f360cb3"
      },
      "execution_count": null,
      "outputs": [
        {
          "output_type": "stream",
          "name": "stdout",
          "text": [
            "Enter your essay: currently pursuing Btech computer science and BS Data Science \n",
            "Number of words in the essay: 10\n"
          ]
        }
      ]
    },
    {
      "cell_type": "markdown",
      "source": [
        "Create  a program that find the number is prime number or not.\n"
      ],
      "metadata": {
        "id": "pKCcFdmyEYcj"
      }
    },
    {
      "cell_type": "code",
      "source": [
        "number = int(input(\"Enter a number: \"))\n",
        "\n",
        "is_prime = True\n",
        "if number <= 1:\n",
        "    is_prime = False\n",
        "else:\n",
        "    for i in range(2, number):\n",
        "        if number % i == 0:\n",
        "            is_prime = False\n",
        "            break\n",
        "\n",
        "if is_prime:\n",
        "    print(number, \"is a prime number\")\n",
        "else:\n",
        "    print(number, \"is not a prime number\")\n"
      ],
      "metadata": {
        "colab": {
          "base_uri": "https://localhost:8080/"
        },
        "id": "k6dB25jKEZNw",
        "outputId": "ff0de3b4-3ee0-4262-a2d3-2fb6dd161c30"
      },
      "execution_count": null,
      "outputs": [
        {
          "output_type": "stream",
          "name": "stdout",
          "text": [
            "Enter a number: 51\n",
            "51 is not a prime number\n"
          ]
        }
      ]
    }
  ]
}