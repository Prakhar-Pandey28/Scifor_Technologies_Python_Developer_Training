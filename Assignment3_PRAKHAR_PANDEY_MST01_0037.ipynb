{
  "nbformat": 4,
  "nbformat_minor": 0,
  "metadata": {
    "colab": {
      "provenance": [],
      "authorship_tag": "ABX9TyP1TnY+zXkdx1GXRoa22yJF",
      "include_colab_link": true
    },
    "kernelspec": {
      "name": "python3",
      "display_name": "Python 3"
    },
    "language_info": {
      "name": "python"
    }
  },
  "cells": [
    {
      "cell_type": "markdown",
      "metadata": {
        "id": "view-in-github",
        "colab_type": "text"
      },
      "source": [
        "<a href=\"https://colab.research.google.com/github/Prakhar-Pandey28/Scifor_Technologies_Python_Developer_Training/blob/main/Assignment3_PRAKHAR_PANDEY_MST01_0037.ipynb\" target=\"_parent\"><img src=\"https://colab.research.google.com/assets/colab-badge.svg\" alt=\"Open In Colab\"/></a>"
      ]
    },
    {
      "cell_type": "markdown",
      "source": [
        "A palindrome is a word, number, phrase, or other sequence of characters that reads the same backward as forward, such as madam or racecar. Arunima got a new puppy (pet) and she wants to decide the name for her pet. The name of the pet should be a palindrome. Write a program to take the pet name as input and print \"true\" if it is palindrome or print \"false\" on screen. Help Arunima to decide the name ( should be palindrome ) of the puppy. Hint: reverse the name and compare it with the original name."
      ],
      "metadata": {
        "id": "tcLMGlBDM5RL"
      }
    },
    {
      "cell_type": "code",
      "source": [
        "name = input().lower()\n",
        "reverse_name = name[::-1]\n",
        "if name == reverse_name :\n",
        "  print(True)\n",
        "else:\n",
        "  print(False)"
      ],
      "metadata": {
        "colab": {
          "base_uri": "https://localhost:8080/"
        },
        "id": "Y7QzTSPEM6OE",
        "outputId": "f07e4640-a776-4e11-f2fa-caf67f9da61d"
      },
      "execution_count": null,
      "outputs": [
        {
          "output_type": "stream",
          "name": "stdout",
          "text": [
            "Naman\n",
            "True\n"
          ]
        }
      ]
    },
    {
      "cell_type": "markdown",
      "source": [
        "Aarush and Yash are two friends in the same grade and they decided to create their secret language to communicate with each other. First of all, they decided to reverse each word. For example: come here = \"emoc ereh\". But this was very easy to understand for other students. They tried to make it a bit difficult and decided to put all the characters which are at odd indices first then all the characters which are at even indices. For example: come here = \"oecm eehr\". Write a program in python to create such type of secret language and convert the word Codeyoung into secret language using the same program. Can we convert the secret language back to normal language using python? Discuss\n"
      ],
      "metadata": {
        "id": "TYoIsVzjRR37"
      }
    },
    {
      "cell_type": "code",
      "source": [
        "Secret_Word = \"Codeyoung\"\n",
        "odd_indices = Secret_Word[1:9:2]\n",
        "even_indices = Secret_Word[0:9:2]\n",
        "print(odd_indices + even_indices)\n"
      ],
      "metadata": {
        "id": "4gIt4bdvRW21",
        "colab": {
          "base_uri": "https://localhost:8080/"
        },
        "outputId": "f29a7a0d-82d0-4d8f-9669-b73ba18c13eb"
      },
      "execution_count": null,
      "outputs": [
        {
          "output_type": "stream",
          "name": "stdout",
          "text": [
            "oeonCdyug\n"
          ]
        }
      ]
    },
    {
      "cell_type": "markdown",
      "source": [
        "Vishal is creating a form and he wants to take the contact number as input. However, some people do not enter the number properly. Vishal is confused about how to verify whether the given number is in the correct format or not. To help Vishal write a python program to show how we can verify whether a given phone number is valid or not. ● Note: A valid phone number contains 10 digits with 9,8 or 7 as the first digit. Phone number only contains numbers and not any character. ● Hint: ● User len() function to verify the number of digits. ● Use isnumeric() function to check it only contains numeric values.Use indexing to check whether the first character is 9,8 or 7 or not."
      ],
      "metadata": {
        "id": "Sx158C_6UFia"
      }
    },
    {
      "cell_type": "code",
      "source": [
        "number = input()\n",
        "print(number.isnumeric())\n",
        "print(len(number) == 10)\n",
        "print(number[0] in ['9', '8', '7'])"
      ],
      "metadata": {
        "colab": {
          "base_uri": "https://localhost:8080/"
        },
        "id": "vG2yPQcAUKLP",
        "outputId": "3730ce7a-6885-42bd-b0d3-4ac3a47d4a67"
      },
      "execution_count": null,
      "outputs": [
        {
          "output_type": "stream",
          "name": "stdout",
          "text": [
            "9172636970\n",
            "True\n",
            "True\n",
            "True\n"
          ]
        }
      ]
    }
  ]
}